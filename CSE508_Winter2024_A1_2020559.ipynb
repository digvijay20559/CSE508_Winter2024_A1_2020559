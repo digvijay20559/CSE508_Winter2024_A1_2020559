{
  "nbformat": 4,
  "nbformat_minor": 0,
  "metadata": {
    "colab": {
      "provenance": []
    },
    "kernelspec": {
      "name": "python3",
      "display_name": "Python 3"
    },
    "language_info": {
      "name": "python"
    }
  },
  "cells": [
    {
      "cell_type": "code",
      "source": [
        "import nltk\n",
        "from google.colab import drive\n",
        "drive.mount('/content/drive')\n",
        "import nltk\n",
        "from nltk.corpus import stopwords\n",
        "from nltk.tokenize import word_tokenize\n",
        "import string\n",
        "# nltk.download('punkt')\n",
        "# nltk.download('stopwords')"
      ],
      "metadata": {
        "id": "TpAPIdi1IUxJ",
        "colab": {
          "base_uri": "https://localhost:8080/"
        },
        "outputId": "ffada846-afe0-4aca-e056-20ac764e0a86"
      },
      "execution_count": 1,
      "outputs": [
        {
          "output_type": "stream",
          "name": "stdout",
          "text": [
            "Drive already mounted at /content/drive; to attempt to forcibly remount, call drive.mount(\"/content/drive\", force_remount=True).\n"
          ]
        }
      ]
    },
    {
      "cell_type": "markdown",
      "source": [
        "# Q1\n"
      ],
      "metadata": {
        "id": "nsWl5jaAy2Xq"
      }
    },
    {
      "cell_type": "code",
      "source": [
        "def preprocess(text,prnt=False):\n",
        "    text = text.lower()\n",
        "    if(prnt):\n",
        "      print(text)\n",
        "\n",
        "    tokens = word_tokenize(text)\n",
        "    if(prnt):\n",
        "      print(tokens)\n",
        "\n",
        "    filtered_tokens = [word for word in tokens if word not in stopwords.words('english')]\n",
        "    if(prnt):\n",
        "      print(filtered_tokens)\n",
        "\n",
        "    filtered_tokens = [word for word in filtered_tokens if word not in string.punctuation]\n",
        "    if(prnt):\n",
        "      print(filtered_tokens)\n",
        "\n",
        "    filtered_tokens = [word for word in filtered_tokens if word.strip()]\n",
        "    if(prnt):\n",
        "      print(filtered_tokens)\n",
        "\n",
        "    return filtered_tokens\n"
      ],
      "metadata": {
        "id": "2jIU0KNrd9nm"
      },
      "execution_count": 24,
      "outputs": []
    },
    {
      "cell_type": "code",
      "source": [
        "for index in range(1,1000):\n",
        "  if index%200==199:\n",
        "    print(index)\n",
        "  with open(\"/content/drive/MyDrive/CSE508_Winter2024_A1_2020559/text_files/file\"+str(index)+\".txt\", 'r') as f:\n",
        "    if index<=5:\n",
        "      print(\"file\",index,\"\\n\")\n",
        "      plist = preprocess(f.read(),True)\n",
        "    else:\n",
        "      plist = preprocess(f.read())\n",
        "    ptext = ' '.join(plist)\n",
        "    with open(\"/content/drive/MyDrive/CSE508_Winter2024_A1_2020559/processed_files/pfile\"+str(index)+\".txt\", 'w') as f2:\n",
        "      f2.write(ptext)"
      ],
      "metadata": {
        "colab": {
          "base_uri": "https://localhost:8080/"
        },
        "id": "Nfx_o2jHS88a",
        "outputId": "5aa55901-de4c-4dcb-9008-58a2b9fd4a9b"
      },
      "execution_count": 25,
      "outputs": [
        {
          "output_type": "stream",
          "name": "stdout",
          "text": [
            "file 1 \n",
            "\n",
            "loving these vintage springs on my vintage strat. they have a good tension and great stability. if you are floating your bridge and want the most out of your springs than these are the way to go.\n",
            "['loving', 'these', 'vintage', 'springs', 'on', 'my', 'vintage', 'strat', '.', 'they', 'have', 'a', 'good', 'tension', 'and', 'great', 'stability', '.', 'if', 'you', 'are', 'floating', 'your', 'bridge', 'and', 'want', 'the', 'most', 'out', 'of', 'your', 'springs', 'than', 'these', 'are', 'the', 'way', 'to', 'go', '.']\n",
            "['loving', 'vintage', 'springs', 'vintage', 'strat', '.', 'good', 'tension', 'great', 'stability', '.', 'floating', 'bridge', 'want', 'springs', 'way', 'go', '.']\n",
            "['loving', 'vintage', 'springs', 'vintage', 'strat', 'good', 'tension', 'great', 'stability', 'floating', 'bridge', 'want', 'springs', 'way', 'go']\n",
            "['loving', 'vintage', 'springs', 'vintage', 'strat', 'good', 'tension', 'great', 'stability', 'floating', 'bridge', 'want', 'springs', 'way', 'go']\n",
            "file 2 \n",
            "\n",
            "works great as a guitar bench mat. not rugged enough for abuse but if you take care of it, it will take care of you. makes organization of workspace much easier because screws won't roll around. color is good too.\n",
            "['works', 'great', 'as', 'a', 'guitar', 'bench', 'mat', '.', 'not', 'rugged', 'enough', 'for', 'abuse', 'but', 'if', 'you', 'take', 'care', 'of', 'it', ',', 'it', 'will', 'take', 'care', 'of', 'you', '.', 'makes', 'organization', 'of', 'workspace', 'much', 'easier', 'because', 'screws', 'wo', \"n't\", 'roll', 'around', '.', 'color', 'is', 'good', 'too', '.']\n",
            "['works', 'great', 'guitar', 'bench', 'mat', '.', 'rugged', 'enough', 'abuse', 'take', 'care', ',', 'take', 'care', '.', 'makes', 'organization', 'workspace', 'much', 'easier', 'screws', 'wo', \"n't\", 'roll', 'around', '.', 'color', 'good', '.']\n",
            "['works', 'great', 'guitar', 'bench', 'mat', 'rugged', 'enough', 'abuse', 'take', 'care', 'take', 'care', 'makes', 'organization', 'workspace', 'much', 'easier', 'screws', 'wo', \"n't\", 'roll', 'around', 'color', 'good']\n",
            "['works', 'great', 'guitar', 'bench', 'mat', 'rugged', 'enough', 'abuse', 'take', 'care', 'take', 'care', 'makes', 'organization', 'workspace', 'much', 'easier', 'screws', 'wo', \"n't\", 'roll', 'around', 'color', 'good']\n",
            "file 3 \n",
            "\n",
            "we use these for everything from our acoustic bass down to our ukuleles. i know there is a smaller model available for ukes, violins, etc.; we haven't yet ordered those, but these will work on smaller instruments if one doesn't extend the feet to their maximum width. they're gentle on the instruments, and the grippy material keeps them secure.\n",
            "\n",
            "the greatest benefit has been when writing music at the computer and needing to set a guitar down to use the keyboard/mouse - just easier for me than a hanging stand.\n",
            "\n",
            "we have several and gave one to a friend for christmas as well. i've used mine on stage, and it folds up small enough to fit right in my gig bag.\n",
            "['we', 'use', 'these', 'for', 'everything', 'from', 'our', 'acoustic', 'bass', 'down', 'to', 'our', 'ukuleles', '.', 'i', 'know', 'there', 'is', 'a', 'smaller', 'model', 'available', 'for', 'ukes', ',', 'violins', ',', 'etc', '.', ';', 'we', 'have', \"n't\", 'yet', 'ordered', 'those', ',', 'but', 'these', 'will', 'work', 'on', 'smaller', 'instruments', 'if', 'one', 'does', \"n't\", 'extend', 'the', 'feet', 'to', 'their', 'maximum', 'width', '.', 'they', \"'re\", 'gentle', 'on', 'the', 'instruments', ',', 'and', 'the', 'grippy', 'material', 'keeps', 'them', 'secure', '.', 'the', 'greatest', 'benefit', 'has', 'been', 'when', 'writing', 'music', 'at', 'the', 'computer', 'and', 'needing', 'to', 'set', 'a', 'guitar', 'down', 'to', 'use', 'the', 'keyboard/mouse', '-', 'just', 'easier', 'for', 'me', 'than', 'a', 'hanging', 'stand', '.', 'we', 'have', 'several', 'and', 'gave', 'one', 'to', 'a', 'friend', 'for', 'christmas', 'as', 'well', '.', 'i', \"'ve\", 'used', 'mine', 'on', 'stage', ',', 'and', 'it', 'folds', 'up', 'small', 'enough', 'to', 'fit', 'right', 'in', 'my', 'gig', 'bag', '.']\n",
            "['use', 'everything', 'acoustic', 'bass', 'ukuleles', '.', 'know', 'smaller', 'model', 'available', 'ukes', ',', 'violins', ',', 'etc', '.', ';', \"n't\", 'yet', 'ordered', ',', 'work', 'smaller', 'instruments', 'one', \"n't\", 'extend', 'feet', 'maximum', 'width', '.', \"'re\", 'gentle', 'instruments', ',', 'grippy', 'material', 'keeps', 'secure', '.', 'greatest', 'benefit', 'writing', 'music', 'computer', 'needing', 'set', 'guitar', 'use', 'keyboard/mouse', '-', 'easier', 'hanging', 'stand', '.', 'several', 'gave', 'one', 'friend', 'christmas', 'well', '.', \"'ve\", 'used', 'mine', 'stage', ',', 'folds', 'small', 'enough', 'fit', 'right', 'gig', 'bag', '.']\n",
            "['use', 'everything', 'acoustic', 'bass', 'ukuleles', 'know', 'smaller', 'model', 'available', 'ukes', 'violins', 'etc', \"n't\", 'yet', 'ordered', 'work', 'smaller', 'instruments', 'one', \"n't\", 'extend', 'feet', 'maximum', 'width', \"'re\", 'gentle', 'instruments', 'grippy', 'material', 'keeps', 'secure', 'greatest', 'benefit', 'writing', 'music', 'computer', 'needing', 'set', 'guitar', 'use', 'keyboard/mouse', 'easier', 'hanging', 'stand', 'several', 'gave', 'one', 'friend', 'christmas', 'well', \"'ve\", 'used', 'mine', 'stage', 'folds', 'small', 'enough', 'fit', 'right', 'gig', 'bag']\n",
            "['use', 'everything', 'acoustic', 'bass', 'ukuleles', 'know', 'smaller', 'model', 'available', 'ukes', 'violins', 'etc', \"n't\", 'yet', 'ordered', 'work', 'smaller', 'instruments', 'one', \"n't\", 'extend', 'feet', 'maximum', 'width', \"'re\", 'gentle', 'instruments', 'grippy', 'material', 'keeps', 'secure', 'greatest', 'benefit', 'writing', 'music', 'computer', 'needing', 'set', 'guitar', 'use', 'keyboard/mouse', 'easier', 'hanging', 'stand', 'several', 'gave', 'one', 'friend', 'christmas', 'well', \"'ve\", 'used', 'mine', 'stage', 'folds', 'small', 'enough', 'fit', 'right', 'gig', 'bag']\n",
            "file 4 \n",
            "\n",
            "great price and good quality.  it didn't quite match the radius of my sound hole but it was close enough.\n",
            "['great', 'price', 'and', 'good', 'quality', '.', 'it', 'did', \"n't\", 'quite', 'match', 'the', 'radius', 'of', 'my', 'sound', 'hole', 'but', 'it', 'was', 'close', 'enough', '.']\n",
            "['great', 'price', 'good', 'quality', '.', \"n't\", 'quite', 'match', 'radius', 'sound', 'hole', 'close', 'enough', '.']\n",
            "['great', 'price', 'good', 'quality', \"n't\", 'quite', 'match', 'radius', 'sound', 'hole', 'close', 'enough']\n",
            "['great', 'price', 'good', 'quality', \"n't\", 'quite', 'match', 'radius', 'sound', 'hole', 'close', 'enough']\n",
            "file 5 \n",
            "\n",
            "i bought this bass to split time as my primary bass with my dean edge. this might be winning me over. the bass boost is outstanding. the active pickups really allow you to adjust to the sound you want. i recommend this for anyone. if you're a beginner  like i was not too long ago, it's an excellent bass to start with. if you're on tour and/or music is making you money, this bass will be beatiful on stage. the color is a bit darker than in the picture. but, all around, this is a great buy.\n",
            "['i', 'bought', 'this', 'bass', 'to', 'split', 'time', 'as', 'my', 'primary', 'bass', 'with', 'my', 'dean', 'edge', '.', 'this', 'might', 'be', 'winning', 'me', 'over', '.', 'the', 'bass', 'boost', 'is', 'outstanding', '.', 'the', 'active', 'pickups', 'really', 'allow', 'you', 'to', 'adjust', 'to', 'the', 'sound', 'you', 'want', '.', 'i', 'recommend', 'this', 'for', 'anyone', '.', 'if', 'you', \"'re\", 'a', 'beginner', 'like', 'i', 'was', 'not', 'too', 'long', 'ago', ',', 'it', \"'s\", 'an', 'excellent', 'bass', 'to', 'start', 'with', '.', 'if', 'you', \"'re\", 'on', 'tour', 'and/or', 'music', 'is', 'making', 'you', 'money', ',', 'this', 'bass', 'will', 'be', 'beatiful', 'on', 'stage', '.', 'the', 'color', 'is', 'a', 'bit', 'darker', 'than', 'in', 'the', 'picture', '.', 'but', ',', 'all', 'around', ',', 'this', 'is', 'a', 'great', 'buy', '.']\n",
            "['bought', 'bass', 'split', 'time', 'primary', 'bass', 'dean', 'edge', '.', 'might', 'winning', '.', 'bass', 'boost', 'outstanding', '.', 'active', 'pickups', 'really', 'allow', 'adjust', 'sound', 'want', '.', 'recommend', 'anyone', '.', \"'re\", 'beginner', 'like', 'long', 'ago', ',', \"'s\", 'excellent', 'bass', 'start', '.', \"'re\", 'tour', 'and/or', 'music', 'making', 'money', ',', 'bass', 'beatiful', 'stage', '.', 'color', 'bit', 'darker', 'picture', '.', ',', 'around', ',', 'great', 'buy', '.']\n",
            "['bought', 'bass', 'split', 'time', 'primary', 'bass', 'dean', 'edge', 'might', 'winning', 'bass', 'boost', 'outstanding', 'active', 'pickups', 'really', 'allow', 'adjust', 'sound', 'want', 'recommend', 'anyone', \"'re\", 'beginner', 'like', 'long', 'ago', \"'s\", 'excellent', 'bass', 'start', \"'re\", 'tour', 'and/or', 'music', 'making', 'money', 'bass', 'beatiful', 'stage', 'color', 'bit', 'darker', 'picture', 'around', 'great', 'buy']\n",
            "['bought', 'bass', 'split', 'time', 'primary', 'bass', 'dean', 'edge', 'might', 'winning', 'bass', 'boost', 'outstanding', 'active', 'pickups', 'really', 'allow', 'adjust', 'sound', 'want', 'recommend', 'anyone', \"'re\", 'beginner', 'like', 'long', 'ago', \"'s\", 'excellent', 'bass', 'start', \"'re\", 'tour', 'and/or', 'music', 'making', 'money', 'bass', 'beatiful', 'stage', 'color', 'bit', 'darker', 'picture', 'around', 'great', 'buy']\n",
            "199\n",
            "399\n",
            "599\n",
            "799\n",
            "999\n"
          ]
        }
      ]
    },
    {
      "cell_type": "markdown",
      "source": [
        "# Q2"
      ],
      "metadata": {
        "id": "KFM3cRxQy7gn"
      }
    },
    {
      "cell_type": "code",
      "source": [
        "def create_uui():\n",
        "  uui = {}\n",
        "  for index in range(1,1000):\n",
        "    if index%200==199:\n",
        "      print(index)\n",
        "    with open(\"/content/drive/MyDrive/CSE508_Winter2024_A1_2020559/processed_files/pfile\"+str(index)+\".txt\", 'r') as f:\n",
        "      uui_list=[uui_item.strip() for uui_item in f.read().split() if uui_item.strip()]\n",
        "      for uui_item in (uui_list):\n",
        "        if uui_item not in uui:\n",
        "          uui[uui_item]={index}\n",
        "        else:\n",
        "          uui[uui_item].update({index})\n",
        "  return uui\n",
        "uui2 = create_uui()\n",
        "\n",
        "import pickle\n",
        "\n",
        "with open('/content/drive/MyDrive/CSE508_Winter2024_A1_2020559/uui.pkl','wb') as f:\n",
        "  pickle.dump(uui2,f)\n",
        "\n",
        "with open('/content/drive/MyDrive/CSE508_Winter2024_A1_2020559/uui.pkl','rb') as f:\n",
        "  uui = pickle.load(f)"
      ],
      "metadata": {
        "colab": {
          "base_uri": "https://localhost:8080/"
        },
        "id": "0X1vQLcfakS0",
        "outputId": "708ab476-3893-4070-e1c7-8c8cbd346421"
      },
      "execution_count": 78,
      "outputs": [
        {
          "output_type": "stream",
          "name": "stdout",
          "text": [
            "199\n",
            "399\n",
            "599\n",
            "799\n",
            "999\n"
          ]
        }
      ]
    },
    {
      "cell_type": "code",
      "source": [
        "def OR (a,b):\n",
        "  a.update(b)\n",
        "  return a\n",
        "def OR_NOT(a,b):\n",
        "  a.update(set([i+1 for i in range(999)])-b)\n",
        "  return a\n",
        "def AND (a,b):\n",
        "  return set.difference(a,set.difference(a,b))\n",
        "def AND_NOT(a,b):\n",
        "  return set.difference(a,set.difference(a,(set([i+1 for i in range(999)])-b)))\n"
      ],
      "metadata": {
        "id": "QbcDFiGmIdJ_"
      },
      "execution_count": 67,
      "outputs": []
    },
    {
      "cell_type": "code",
      "source": [
        "def query(uui):\n",
        "  query_n = int(input(\"Input Number of Queries: \"))\n",
        "  for j in range(query_n):\n",
        "    query_s = preprocess(input(\"Input Sequence: \"))\n",
        "    query_ops = [i.strip().upper() for i in input(\"Comma seperated Operations: \").split(\",\")]\n",
        "    if len(query_ops)!=len(query_s)-1:\n",
        "      print(\"Number of Operators not equal to number of Words - 1\")\n",
        "      continue\n",
        "    query_l = [\"\"]*(len(query_ops)+len(query_s))\n",
        "    for i in range(len(query_l)):\n",
        "      query_l[i]=query_s[i//2] if i%2==0 else query_ops[i//2]\n",
        "    query_l = ' '.join(query_l)\n",
        "    query_set = uui[query_s[0]].copy()\n",
        "    for i in range(len(query_ops)):\n",
        "      if query_ops[i] == \"AND\":\n",
        "        query_set = AND(query_set,uui[query_s[i+1]])\n",
        "      elif query_ops[i] == \"AND NOT\":\n",
        "        query_set = AND_NOT(query_set,uui[query_s[i+1]])\n",
        "      elif query_ops[i] == \"OR\":\n",
        "        query_set = OR(query_set,uui[query_s[i+1]])\n",
        "      else:\n",
        "        query_set = OR_NOT(query_set,uui[query_s[i+1]])\n",
        "    query_docs = [\"file\"+str(i)+\".txt\" for i in query_set]\n",
        "    print(\"Query\",j+1,\":\",query_l)\n",
        "    print(\"Number of documents retrieved for query\",j+1,\":\",len(query_set))\n",
        "    print(\"Names of the documents retrieved for query\",j+1,\";\",(\", \".join(query_docs)))\n",
        "\n",
        "  return\n"
      ],
      "metadata": {
        "id": "tiPUeTy4U2xo"
      },
      "execution_count": 63,
      "outputs": []
    },
    {
      "cell_type": "code",
      "source": [
        "query(uui)"
      ],
      "metadata": {
        "colab": {
          "base_uri": "https://localhost:8080/"
        },
        "id": "sBMlZ8rIPBfk",
        "outputId": "46fc890d-fe96-486b-e668-a6369bba57f5"
      },
      "execution_count": 88,
      "outputs": [
        {
          "output_type": "stream",
          "name": "stdout",
          "text": [
            "Input Number of Queries: 2\n",
            "Input Sequence: perfect feedback sound\n",
            "Comma seperated Operations: and, or\n",
            "Query 1 : perfect AND feedback OR sound\n",
            "Number of documents retrieved for query 1 : 183\n",
            "Names of the documents retrieved for query 1 ; file512.txt, file513.txt, file514.txt, file4.txt, file5.txt, file520.txt, file522.txt, file523.txt, file524.txt, file13.txt, file527.txt, file529.txt, file532.txt, file21.txt, file23.txt, file539.txt, file28.txt, file541.txt, file545.txt, file48.txt, file563.txt, file56.txt, file57.txt, file569.txt, file570.txt, file60.txt, file64.txt, file578.txt, file68.txt, file581.txt, file72.txt, file584.txt, file78.txt, file80.txt, file89.txt, file602.txt, file98.txt, file610.txt, file100.txt, file614.txt, file106.txt, file108.txt, file620.txt, file621.txt, file624.txt, file631.txt, file637.txt, file638.txt, file133.txt, file137.txt, file139.txt, file140.txt, file144.txt, file147.txt, file660.txt, file151.txt, file153.txt, file155.txt, file157.txt, file158.txt, file160.txt, file672.txt, file677.txt, file166.txt, file681.txt, file170.txt, file173.txt, file178.txt, file180.txt, file183.txt, file184.txt, file191.txt, file703.txt, file194.txt, file706.txt, file198.txt, file712.txt, file713.txt, file715.txt, file204.txt, file722.txt, file212.txt, file213.txt, file214.txt, file727.txt, file216.txt, file233.txt, file748.txt, file240.txt, file752.txt, file756.txt, file758.txt, file252.txt, file767.txt, file256.txt, file257.txt, file773.txt, file263.txt, file781.txt, file783.txt, file274.txt, file786.txt, file279.txt, file794.txt, file284.txt, file288.txt, file805.txt, file813.txt, file304.txt, file310.txt, file823.txt, file314.txt, file316.txt, file317.txt, file320.txt, file322.txt, file323.txt, file324.txt, file839.txt, file840.txt, file332.txt, file336.txt, file848.txt, file850.txt, file339.txt, file851.txt, file342.txt, file343.txt, file859.txt, file349.txt, file869.txt, file870.txt, file871.txt, file360.txt, file872.txt, file362.txt, file369.txt, file885.txt, file378.txt, file890.txt, file897.txt, file898.txt, file387.txt, file395.txt, file396.txt, file908.txt, file911.txt, file406.txt, file407.txt, file920.txt, file411.txt, file412.txt, file413.txt, file925.txt, file927.txt, file928.txt, file418.txt, file931.txt, file936.txt, file937.txt, file938.txt, file430.txt, file942.txt, file946.txt, file435.txt, file947.txt, file439.txt, file461.txt, file974.txt, file975.txt, file463.txt, file464.txt, file979.txt, file980.txt, file982.txt, file476.txt, file478.txt, file994.txt, file997.txt, file491.txt, file493.txt, file502.txt, file503.txt\n",
            "Input Sequence: perfect feedback sound\n",
            "Comma seperated Operations: and not, and or\n",
            "Query 2 : perfect AND NOT feedback AND OR sound\n",
            "Number of documents retrieved for query 2 : 836\n",
            "Names of the documents retrieved for query 2 ; file1.txt, file2.txt, file3.txt, file6.txt, file7.txt, file8.txt, file9.txt, file10.txt, file11.txt, file12.txt, file14.txt, file15.txt, file16.txt, file17.txt, file18.txt, file19.txt, file20.txt, file22.txt, file24.txt, file25.txt, file26.txt, file27.txt, file29.txt, file30.txt, file31.txt, file32.txt, file33.txt, file34.txt, file35.txt, file36.txt, file37.txt, file38.txt, file39.txt, file40.txt, file41.txt, file42.txt, file43.txt, file44.txt, file45.txt, file46.txt, file47.txt, file49.txt, file50.txt, file51.txt, file52.txt, file53.txt, file54.txt, file55.txt, file58.txt, file59.txt, file61.txt, file62.txt, file63.txt, file65.txt, file66.txt, file67.txt, file69.txt, file70.txt, file71.txt, file73.txt, file74.txt, file75.txt, file76.txt, file77.txt, file79.txt, file81.txt, file82.txt, file83.txt, file84.txt, file85.txt, file86.txt, file87.txt, file88.txt, file90.txt, file91.txt, file92.txt, file93.txt, file94.txt, file95.txt, file96.txt, file97.txt, file99.txt, file101.txt, file102.txt, file103.txt, file104.txt, file105.txt, file106.txt, file107.txt, file109.txt, file110.txt, file111.txt, file112.txt, file113.txt, file114.txt, file115.txt, file116.txt, file117.txt, file118.txt, file119.txt, file120.txt, file121.txt, file122.txt, file123.txt, file124.txt, file125.txt, file126.txt, file127.txt, file128.txt, file129.txt, file130.txt, file131.txt, file132.txt, file134.txt, file135.txt, file136.txt, file137.txt, file138.txt, file141.txt, file142.txt, file143.txt, file145.txt, file146.txt, file148.txt, file149.txt, file150.txt, file152.txt, file154.txt, file156.txt, file159.txt, file161.txt, file162.txt, file163.txt, file164.txt, file165.txt, file167.txt, file168.txt, file169.txt, file171.txt, file172.txt, file174.txt, file175.txt, file176.txt, file177.txt, file178.txt, file179.txt, file181.txt, file182.txt, file183.txt, file185.txt, file186.txt, file187.txt, file188.txt, file189.txt, file190.txt, file192.txt, file193.txt, file195.txt, file196.txt, file197.txt, file199.txt, file200.txt, file201.txt, file202.txt, file203.txt, file205.txt, file206.txt, file207.txt, file208.txt, file209.txt, file210.txt, file211.txt, file213.txt, file215.txt, file217.txt, file218.txt, file219.txt, file220.txt, file221.txt, file222.txt, file223.txt, file224.txt, file225.txt, file226.txt, file227.txt, file228.txt, file229.txt, file230.txt, file231.txt, file232.txt, file234.txt, file235.txt, file236.txt, file237.txt, file238.txt, file239.txt, file241.txt, file242.txt, file243.txt, file244.txt, file245.txt, file246.txt, file247.txt, file248.txt, file249.txt, file250.txt, file251.txt, file253.txt, file254.txt, file255.txt, file257.txt, file258.txt, file259.txt, file260.txt, file261.txt, file262.txt, file264.txt, file265.txt, file266.txt, file267.txt, file268.txt, file269.txt, file270.txt, file271.txt, file272.txt, file273.txt, file275.txt, file276.txt, file277.txt, file278.txt, file280.txt, file281.txt, file282.txt, file283.txt, file285.txt, file286.txt, file287.txt, file289.txt, file290.txt, file291.txt, file292.txt, file293.txt, file294.txt, file295.txt, file296.txt, file297.txt, file298.txt, file299.txt, file300.txt, file301.txt, file302.txt, file303.txt, file305.txt, file306.txt, file307.txt, file308.txt, file309.txt, file311.txt, file312.txt, file313.txt, file315.txt, file318.txt, file319.txt, file321.txt, file325.txt, file326.txt, file327.txt, file328.txt, file329.txt, file330.txt, file331.txt, file333.txt, file334.txt, file335.txt, file337.txt, file338.txt, file339.txt, file340.txt, file341.txt, file344.txt, file345.txt, file346.txt, file347.txt, file348.txt, file350.txt, file351.txt, file352.txt, file353.txt, file354.txt, file355.txt, file356.txt, file357.txt, file358.txt, file359.txt, file361.txt, file363.txt, file364.txt, file365.txt, file366.txt, file367.txt, file368.txt, file370.txt, file371.txt, file372.txt, file373.txt, file374.txt, file375.txt, file376.txt, file377.txt, file379.txt, file380.txt, file381.txt, file382.txt, file383.txt, file384.txt, file385.txt, file386.txt, file388.txt, file389.txt, file390.txt, file391.txt, file392.txt, file393.txt, file394.txt, file397.txt, file398.txt, file399.txt, file400.txt, file401.txt, file402.txt, file403.txt, file404.txt, file405.txt, file408.txt, file409.txt, file410.txt, file414.txt, file415.txt, file416.txt, file417.txt, file419.txt, file420.txt, file421.txt, file422.txt, file423.txt, file424.txt, file425.txt, file426.txt, file427.txt, file428.txt, file429.txt, file431.txt, file432.txt, file433.txt, file434.txt, file436.txt, file437.txt, file438.txt, file440.txt, file441.txt, file442.txt, file443.txt, file444.txt, file445.txt, file446.txt, file447.txt, file448.txt, file449.txt, file450.txt, file451.txt, file452.txt, file453.txt, file454.txt, file455.txt, file456.txt, file457.txt, file458.txt, file459.txt, file460.txt, file462.txt, file465.txt, file466.txt, file467.txt, file468.txt, file469.txt, file470.txt, file471.txt, file472.txt, file473.txt, file474.txt, file475.txt, file477.txt, file479.txt, file480.txt, file481.txt, file482.txt, file483.txt, file484.txt, file485.txt, file486.txt, file487.txt, file488.txt, file489.txt, file490.txt, file492.txt, file494.txt, file495.txt, file496.txt, file497.txt, file498.txt, file499.txt, file500.txt, file501.txt, file504.txt, file505.txt, file506.txt, file507.txt, file508.txt, file509.txt, file510.txt, file511.txt, file515.txt, file516.txt, file517.txt, file518.txt, file519.txt, file521.txt, file525.txt, file526.txt, file528.txt, file530.txt, file531.txt, file533.txt, file534.txt, file535.txt, file536.txt, file537.txt, file538.txt, file540.txt, file542.txt, file543.txt, file544.txt, file546.txt, file547.txt, file548.txt, file549.txt, file550.txt, file551.txt, file552.txt, file553.txt, file554.txt, file555.txt, file556.txt, file557.txt, file558.txt, file559.txt, file560.txt, file561.txt, file562.txt, file564.txt, file565.txt, file566.txt, file567.txt, file568.txt, file571.txt, file572.txt, file573.txt, file574.txt, file575.txt, file576.txt, file577.txt, file579.txt, file580.txt, file582.txt, file583.txt, file584.txt, file585.txt, file586.txt, file587.txt, file588.txt, file589.txt, file590.txt, file591.txt, file592.txt, file593.txt, file594.txt, file595.txt, file596.txt, file597.txt, file598.txt, file599.txt, file600.txt, file601.txt, file602.txt, file603.txt, file604.txt, file605.txt, file606.txt, file607.txt, file608.txt, file609.txt, file611.txt, file612.txt, file613.txt, file615.txt, file616.txt, file617.txt, file618.txt, file619.txt, file622.txt, file623.txt, file625.txt, file626.txt, file627.txt, file628.txt, file629.txt, file630.txt, file631.txt, file632.txt, file633.txt, file634.txt, file635.txt, file636.txt, file639.txt, file640.txt, file641.txt, file642.txt, file643.txt, file644.txt, file645.txt, file646.txt, file647.txt, file648.txt, file649.txt, file650.txt, file651.txt, file652.txt, file653.txt, file654.txt, file655.txt, file656.txt, file657.txt, file658.txt, file659.txt, file660.txt, file661.txt, file662.txt, file663.txt, file664.txt, file665.txt, file666.txt, file667.txt, file668.txt, file669.txt, file670.txt, file671.txt, file673.txt, file674.txt, file675.txt, file676.txt, file678.txt, file679.txt, file680.txt, file682.txt, file683.txt, file684.txt, file685.txt, file686.txt, file687.txt, file688.txt, file689.txt, file690.txt, file691.txt, file692.txt, file693.txt, file694.txt, file695.txt, file696.txt, file697.txt, file698.txt, file699.txt, file700.txt, file701.txt, file702.txt, file704.txt, file705.txt, file707.txt, file708.txt, file709.txt, file710.txt, file711.txt, file712.txt, file713.txt, file714.txt, file715.txt, file716.txt, file717.txt, file718.txt, file719.txt, file720.txt, file721.txt, file723.txt, file724.txt, file725.txt, file726.txt, file728.txt, file729.txt, file730.txt, file731.txt, file732.txt, file733.txt, file734.txt, file735.txt, file736.txt, file737.txt, file738.txt, file739.txt, file740.txt, file741.txt, file742.txt, file743.txt, file744.txt, file745.txt, file746.txt, file747.txt, file749.txt, file750.txt, file751.txt, file753.txt, file754.txt, file755.txt, file757.txt, file758.txt, file759.txt, file760.txt, file761.txt, file762.txt, file763.txt, file764.txt, file765.txt, file766.txt, file768.txt, file769.txt, file770.txt, file771.txt, file772.txt, file774.txt, file775.txt, file776.txt, file777.txt, file778.txt, file779.txt, file780.txt, file782.txt, file784.txt, file785.txt, file787.txt, file788.txt, file789.txt, file790.txt, file791.txt, file792.txt, file793.txt, file795.txt, file796.txt, file797.txt, file798.txt, file799.txt, file800.txt, file801.txt, file802.txt, file803.txt, file804.txt, file806.txt, file807.txt, file808.txt, file809.txt, file810.txt, file811.txt, file812.txt, file814.txt, file815.txt, file816.txt, file817.txt, file818.txt, file819.txt, file820.txt, file821.txt, file822.txt, file824.txt, file825.txt, file826.txt, file827.txt, file828.txt, file829.txt, file830.txt, file831.txt, file832.txt, file833.txt, file834.txt, file835.txt, file836.txt, file837.txt, file838.txt, file841.txt, file842.txt, file843.txt, file844.txt, file845.txt, file846.txt, file847.txt, file849.txt, file850.txt, file851.txt, file852.txt, file853.txt, file854.txt, file855.txt, file856.txt, file857.txt, file858.txt, file860.txt, file861.txt, file862.txt, file863.txt, file864.txt, file865.txt, file866.txt, file867.txt, file868.txt, file871.txt, file873.txt, file874.txt, file875.txt, file876.txt, file877.txt, file878.txt, file879.txt, file880.txt, file881.txt, file882.txt, file883.txt, file884.txt, file886.txt, file887.txt, file888.txt, file889.txt, file891.txt, file892.txt, file893.txt, file894.txt, file895.txt, file896.txt, file899.txt, file900.txt, file901.txt, file902.txt, file903.txt, file904.txt, file905.txt, file906.txt, file907.txt, file909.txt, file910.txt, file912.txt, file913.txt, file914.txt, file915.txt, file916.txt, file917.txt, file918.txt, file919.txt, file921.txt, file922.txt, file923.txt, file924.txt, file926.txt, file929.txt, file930.txt, file932.txt, file933.txt, file934.txt, file935.txt, file939.txt, file940.txt, file941.txt, file943.txt, file944.txt, file945.txt, file947.txt, file948.txt, file949.txt, file950.txt, file951.txt, file952.txt, file953.txt, file954.txt, file955.txt, file956.txt, file957.txt, file958.txt, file959.txt, file960.txt, file961.txt, file962.txt, file963.txt, file964.txt, file965.txt, file966.txt, file967.txt, file968.txt, file969.txt, file970.txt, file971.txt, file972.txt, file973.txt, file976.txt, file977.txt, file978.txt, file981.txt, file983.txt, file984.txt, file985.txt, file986.txt, file987.txt, file988.txt, file989.txt, file990.txt, file991.txt, file992.txt, file993.txt, file994.txt, file995.txt, file996.txt, file998.txt, file999.txt\n"
          ]
        }
      ]
    },
    {
      "cell_type": "markdown",
      "source": [
        "# Q3\n"
      ],
      "metadata": {
        "id": "dEUWMZw0yv2g"
      }
    },
    {
      "cell_type": "code",
      "source": [
        "def create_pi():\n",
        "  pi={}\n",
        "  for index in range(1,1000):\n",
        "    if index%200==199:\n",
        "      print(index)\n",
        "    with open(\"/content/drive/MyDrive/CSE508_Winter2024_A1_2020559/processed_files/pfile\"+str(index)+\".txt\", 'r') as f:\n",
        "      pi_list=[pi_item.strip() for pi_item in f.read().split() if pi_item.strip()]\n",
        "      for i in range(len((pi_list))):\n",
        "        if pi_list[i] not in pi:\n",
        "          pi[pi_list[i]]={index:{i}}\n",
        "        else:\n",
        "          if index not in pi[pi_list[i]]:\n",
        "            pi[pi_list[i]][index]={i}\n",
        "          else:\n",
        "            pi[pi_list[i]][index].update({i})\n",
        "  return pi\n",
        "\n",
        "pi2 = create_pi()\n",
        "\n",
        "import pickle\n",
        "\n",
        "with open('/content/drive/MyDrive/CSE508_Winter2024_A1_2020559/pi.pkl','wb') as f:\n",
        "  pickle.dump(pi2,f)\n",
        "\n",
        "with open('/content/drive/MyDrive/CSE508_Winter2024_A1_2020559/pi.pkl','rb') as f:\n",
        "  pi = pickle.load(f)"
      ],
      "metadata": {
        "colab": {
          "base_uri": "https://localhost:8080/"
        },
        "id": "qR3kOTx4yy0V",
        "outputId": "5bc2cb9e-d7fd-4622-8229-4c91211e260b"
      },
      "execution_count": 85,
      "outputs": [
        {
          "output_type": "stream",
          "name": "stdout",
          "text": [
            "199\n",
            "399\n",
            "599\n",
            "799\n",
            "999\n"
          ]
        }
      ]
    },
    {
      "cell_type": "code",
      "source": [
        "pi"
      ],
      "metadata": {
        "id": "20rwSUJQ3TCJ"
      },
      "execution_count": null,
      "outputs": []
    },
    {
      "cell_type": "code",
      "source": [
        "def query_pi(pi):\n",
        "  query_n = int(input(\"Input Number of Queries: \"))\n",
        "  for jj in range(query_n):\n",
        "    query_set = []\n",
        "    query_s = preprocess(input(\"Input Sequence: \"))\n",
        "    l=[set(pi[query_s[ii]].keys()) for ii in range(len(query_s))]\n",
        "    sett = l[0]\n",
        "    for i in range(len(query_s)-1):\n",
        "      sett = AND(sett,l[i+1])\n",
        "    sett=list(sett)\n",
        "    l2=[\"\"]*len(query_s)\n",
        "\n",
        "    for i in range(len(sett)):\n",
        "      ltemp = [\"\"]*len(query_s)\n",
        "      for j in range(len(query_s)):\n",
        "        ltemp[j] = pi[query_s[j]][sett[i]]\n",
        "        ltemp[j] = {kk-j for kk in ltemp[j]}\n",
        "        # print(ltemp[j])\n",
        "\n",
        "      set1 = ltemp[0]\n",
        "      for ii in range(len(query_s)-1):\n",
        "        set1 = AND(set1,ltemp[ii+1])\n",
        "      if(len(set1)>0):\n",
        "        query_set.append(sett[i])\n",
        "\n",
        "    query_set = set(query_set)\n",
        "    query_docs = [\"file\"+str(i)+\".txt\" for i in query_set]\n",
        "\n",
        "\n",
        "    print(\"Number of documents retrieved for query\",jj+1,\":\",len(query_set))\n",
        "    print(\"Names of the documents retrieved for query\",jj+1,\";\",(\", \".join(query_docs)))\n",
        "\n",
        "  return\n"
      ],
      "metadata": {
        "id": "t7MLWQD709id"
      },
      "execution_count": 102,
      "outputs": []
    },
    {
      "cell_type": "code",
      "source": [
        "query_pi(pi)\n",
        "\n"
      ],
      "metadata": {
        "colab": {
          "base_uri": "https://localhost:8080/"
        },
        "id": "uvop1XiJD9S8",
        "outputId": "88297d3e-2f49-41b0-cae7-2c63ee654204"
      },
      "execution_count": 105,
      "outputs": [
        {
          "output_type": "stream",
          "name": "stdout",
          "text": [
            "Input Number of Queries: 1\n",
            "Input Sequence: true perfect sound\n",
            "Number of documents retrieved for query 1 : 1\n",
            "Names of the documents retrieved for query 1 ; file310.txt\n"
          ]
        }
      ]
    },
    {
      "cell_type": "code",
      "source": [],
      "metadata": {
        "id": "MsVVYbSYD_p9"
      },
      "execution_count": null,
      "outputs": []
    }
  ]
}